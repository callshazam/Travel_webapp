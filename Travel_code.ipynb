{
 "cells": [
  {
   "cell_type": "markdown",
   "id": "9bea8726-bf60-4ac6-bba2-749b98d95787",
   "metadata": {},
   "source": [
    "Step 1: Load the Dataset\n",
    "\n",
    "Start by loading the dataset and displaying the first few rows to understand its structure."
   ]
  },
  {
   "cell_type": "code",
   "execution_count": 5,
   "id": "0754cabc-5e9a-41c7-9503-c37e7960e597",
   "metadata": {},
   "outputs": [
    {
     "name": "stdout",
     "output_type": "stream",
     "text": [
      "First few rows of the dataset:\n",
      "  Terrain Type  Distance (km) Travel Mode Terrain Difficulty  \\\n",
      "0        Urban             10         Car               Easy   \n",
      "1     Mountain             50      Hiking          Difficult   \n",
      "2      Coastal            200        Boat           Moderate   \n",
      "3       Desert            100         Car          Difficult   \n",
      "4       Forest             30        Bike           Moderate   \n",
      "\n",
      "  Weather Conditions Accessibility    Elevation  Travel Time (hrs)  Cost ($)  \n",
      "0              Sunny          High         Flat                0.5         5  \n",
      "1              Snowy           Low  Mountainous               10.0         0  \n",
      "2              Rainy        Medium         Flat                5.0        50  \n",
      "3              Sunny           Low         Flat                2.0        20  \n",
      "4              Rainy        Medium        Hilly                3.0        10  \n"
     ]
    }
   ],
   "source": [
    "import pandas as pd\n",
    "\n",
    "# Load the dataset\n",
    "df = pd.read_csv('Travel_Data.csv')\n",
    "\n",
    "# Display the first few rows of the dataset\n",
    "print(\"First few rows of the dataset:\")\n",
    "print(df.head())"
   ]
  },
  {
   "cell_type": "markdown",
   "id": "3275b0bc-1ee8-470e-be0b-ec88354b6c9c",
   "metadata": {},
   "source": [
    "Step 2: Display Summary Statistics and Check for Missing Values\n",
    "\n",
    "Next, display summary statistics and check for any missing values."
   ]
  },
  {
   "cell_type": "code",
   "execution_count": 6,
   "id": "59985a23-6e28-4f1a-8ec9-849537fae254",
   "metadata": {},
   "outputs": [
    {
     "name": "stdout",
     "output_type": "stream",
     "text": [
      "\n",
      "Summary statistics:\n",
      "       Distance (km)  Travel Time (hrs)   Cost ($)\n",
      "count      38.000000          38.000000  38.000000\n",
      "mean       92.631579           5.310526  23.131579\n",
      "std        77.867323           3.799274  24.222138\n",
      "min        10.000000           0.500000   0.000000\n",
      "25%        36.250000           2.575000   4.250000\n",
      "50%        62.500000           4.350000  16.000000\n",
      "75%       117.500000           7.150000  29.500000\n",
      "max       300.000000          14.000000  80.000000\n",
      "\n",
      "Missing values:\n",
      "Terrain Type          0\n",
      "Distance (km)         0\n",
      "Travel Mode           0\n",
      "Terrain Difficulty    0\n",
      "Weather Conditions    0\n",
      "Accessibility         0\n",
      "Elevation             0\n",
      "Travel Time (hrs)     0\n",
      "Cost ($)              0\n",
      "dtype: int64\n"
     ]
    }
   ],
   "source": [
    "# Display summary statistics\n",
    "print(\"\\nSummary statistics:\")\n",
    "print(df.describe())\n",
    "\n",
    "# Check for missing values\n",
    "print(\"\\nMissing values:\")\n",
    "print(df.isnull().sum())"
   ]
  },
  {
   "cell_type": "markdown",
   "id": "88c654bf-664f-4d30-96fa-d228c95f1e0d",
   "metadata": {},
   "source": [
    "Step 3: Handle Missing Values\n",
    "\n",
    "For simplicity, we can drop rows with missing values. Alternatively, you can fill them with appropriate values."
   ]
  },
  {
   "cell_type": "code",
   "execution_count": 7,
   "id": "964a295b-51d0-4250-ba17-0364990551ee",
   "metadata": {},
   "outputs": [],
   "source": [
    "# Drop rows with missing values\n",
    "df.dropna(inplace=True)"
   ]
  },
  {
   "cell_type": "markdown",
   "id": "17c2541b-9fe8-4628-a9d4-75a4d879880b",
   "metadata": {},
   "source": [
    "Step 4: Visualize the Distribution of the Target Variable\n",
    "\n",
    "Use seaborn to visualize the distribution of the target variable (Travel Mode)."
   ]
  },
  {
   "cell_type": "code",
   "execution_count": 8,
   "id": "f8230616-9f32-4802-93bf-90ea1c7556f5",
   "metadata": {},
   "outputs": [
    {
     "name": "stdout",
     "output_type": "stream",
     "text": [
      "\n",
      "Distribution of the target variable:\n",
      "Travel Mode\n",
      "Car       10\n",
      "Hiking     8\n",
      "Boat       8\n",
      "Bike       7\n",
      "Bus        3\n",
      "Train      2\n",
      "Name: count, dtype: int64\n"
     ]
    },
    {
     "data": {
      "image/png": "[encoded data removed]",
      "text/plain": [
       "<Figure size 640x480 with 1 Axes>"
      ]
     },
     "metadata": {},
     "output_type": "display_data"
    }
   ],
   "source": [
    "import seaborn as sns\n",
    "import matplotlib.pyplot as plt\n",
    "\n",
    "# Display the distribution of the target variable\n",
    "print(\"\\nDistribution of the target variable:\")\n",
    "print(df['Travel Mode'].value_counts())\n",
    "\n",
    "# Visualize the distribution of the target variable\n",
    "sns.countplot(x='Travel Mode', data=df)\n",
    "plt.title('Distribution of Travel Modes')\n",
    "plt.show()"
   ]
  },
  {
   "cell_type": "markdown",
   "id": "cff64d84-9a2b-45bb-bfcc-7f280a2ef008",
   "metadata": {},
   "source": [
    "Step 5: Convert Categorical Variables to Numerical Format\n",
    "\n",
    "Use OneHotEncoder to convert categorical variables to numerical format."
   ]
  },
  {
   "cell_type": "code",
   "execution_count": 9,
   "id": "c71b3941-810c-4ca6-969f-97dab86d65b7",
   "metadata": {},
   "outputs": [
    {
     "name": "stderr",
     "output_type": "stream",
     "text": [
      "C:\\Users\\anasn\\anaconda3\\Lib\\site-packages\\sklearn\\preprocessing\\_encoders.py:868: FutureWarning: `sparse` was renamed to `sparse_output` in version 1.2 and will be removed in 1.4. `sparse_output` is ignored unless you leave `sparse` to its default value.\n",
      "  warnings.warn(\n"
     ]
    }
   ],
   "source": [
    "from sklearn.preprocessing import OneHotEncoder\n",
    "\n",
    "# Convert categorical variables to numerical format using OneHotEncoder\n",
    "categorical_features = ['Terrain Type', 'Terrain Difficulty', 'Weather Conditions', 'Accessibility', 'Elevation']\n",
    "\n",
    "# Apply one-hot encoding to the features\n",
    "encoder = OneHotEncoder(sparse=False)\n",
    "encoded_features = encoder.fit_transform(df[categorical_features])\n",
    "\n",
    "# Create a DataFrame with the encoded features\n",
    "encoded_df = pd.DataFrame(encoded_features, columns=encoder.get_feature_names_out(categorical_features))\n",
    "\n",
    "# Combine the encoded features with the rest of the dataset\n",
    "df = df.drop(categorical_features, axis=1)\n",
    "df = pd.concat([df, encoded_df], axis=1)"
   ]
  },
  {
   "cell_type": "markdown",
   "id": "14c381de-f8f4-406a-ad61-bef0b4b8397a",
   "metadata": {},
   "source": [
    "Step 6: Encode the Target Variable\n",
    "\n",
    "Use LabelEncoder to convert the target variable to numerical format."
   ]
  },
  {
   "cell_type": "code",
   "execution_count": 10,
   "id": "30b70d40-0641-4b95-9814-1ae680fc2b81",
   "metadata": {},
   "outputs": [],
   "source": [
    "from sklearn.preprocessing import LabelEncoder\n",
    "\n",
    "# Convert the target variable to numerical format using LabelEncoder\n",
    "label_encoder = LabelEncoder()\n",
    "df['Travel Mode'] = label_encoder.fit_transform(df['Travel Mode'])"
   ]
  },
  {
   "cell_type": "markdown",
   "id": "eb8cb4f6-fc54-4119-95f1-3d3487232b02",
   "metadata": {},
   "source": [
    "Step 7: Standardize Numerical Features\n",
    "\n",
    "Standardize numerical features to ensure they have a mean of 0 and a standard deviation of 1."
   ]
  },
  {
   "cell_type": "code",
   "execution_count": 11,
   "id": "528e9a0d-0102-4566-b414-16ccf261c309",
   "metadata": {},
   "outputs": [],
   "source": [
    "from sklearn.preprocessing import StandardScaler\n",
    "\n",
    "# Standardize numerical features (if any)\n",
    "numerical_features = ['Distance (km)', 'Travel Time (hrs)', 'Cost ($)']\n",
    "scaler = StandardScaler()\n",
    "df[numerical_features] = scaler.fit_transform(df[numerical_features])"
   ]
  },
  {
   "cell_type": "markdown",
   "id": "cbc96bab-2f02-44a7-af20-df8f0b1caa35",
   "metadata": {},
   "source": [
    "Step 8: Define Features and Target\n",
    "\n",
    "Separate the features and the target variable."
   ]
  },
  {
   "cell_type": "code",
   "execution_count": 12,
   "id": "d31437b6-bb24-47f8-bd9c-4b88792d3126",
   "metadata": {},
   "outputs": [],
   "source": [
    "# Define features and target\n",
    "X = df.drop('Travel Mode', axis=1)\n",
    "y = df['Travel Mode']"
   ]
  },
  {
   "cell_type": "markdown",
   "id": "0219462d-e963-4d23-a7d7-128f3b465ce3",
   "metadata": {},
   "source": [
    "Step 9: Split the Data into Training and Test Sets\n",
    "\n",
    "Split the data into training and test sets."
   ]
  },
  {
   "cell_type": "code",
   "execution_count": 13,
   "id": "dc386345-fc51-4b91-824d-66b736a7f091",
   "metadata": {},
   "outputs": [],
   "source": [
    "from sklearn.model_selection import train_test_split\n",
    "\n",
    "# Split the data into training and test sets\n",
    "X_train, X_test, y_train, y_test = train_test_split(X, y, test_size=0.2, random_state=42)"
   ]
  },
  {
   "cell_type": "markdown",
   "id": "d8356e52-af70-48d3-8012-3c9363c3dbe8",
   "metadata": {},
   "source": [
    "Step 10: Train the Model\n",
    "\n",
    "Initialize and train a RandomForestClassifier model."
   ]
  },
  {
   "cell_type": "code",
   "execution_count": 14,
   "id": "50f89dd2-10b7-43cb-a1be-7844f7716e95",
   "metadata": {},
   "outputs": [
    {
     "data": {
      "text/html": [
       "<style>#sk-container-id-1 {color: black;background-color: white;}#sk-container-id-1 pre{padding: 0;}#sk-container-id-1 div.sk-toggleable {background-color: white;}#sk-container-id-1 label.sk-toggleable__label {cursor: pointer;display: block;width: 100%;margin-bottom: 0;padding: 0.3em;box-sizing: border-box;text-align: center;}#sk-container-id-1 label.sk-toggleable__label-arrow:before {content: \"▸\";float: left;margin-right: 0.25em;color: #696969;}#sk-container-id-1 label.sk-toggleable__label-arrow:hover:before {color: black;}#sk-container-id-1 div.sk-estimator:hover label.sk-toggleable__label-arrow:before {color: black;}#sk-container-id-1 div.sk-toggleable__content {max-height: 0;max-width: 0;overflow: hidden;text-align: left;background-color: #f0f8ff;}#sk-container-id-1 div.sk-toggleable__content pre {margin: 0.2em;color: black;border-radius: 0.25em;background-color: #f0f8ff;}#sk-container-id-1 input.sk-toggleable__control:checked~div.sk-toggleable__content {max-height: 200px;max-width: 100%;overflow: auto;}#sk-container-id-1 input.sk-toggleable__control:checked~label.sk-toggleable__label-arrow:before {content: \"▾\";}#sk-container-id-1 div.sk-estimator input.sk-toggleable__control:checked~label.sk-toggleable__label {background-color: #d4ebff;}#sk-container-id-1 div.sk-label input.sk-toggleable__control:checked~label.sk-toggleable__label {background-color: #d4ebff;}#sk-container-id-1 input.sk-hidden--visually {border: 0;clip: rect(1px 1px 1px 1px);clip: rect(1px, 1px, 1px, 1px);height: 1px;margin: -1px;overflow: hidden;padding: 0;position: absolute;width: 1px;}#sk-container-id-1 div.sk-estimator {font-family: monospace;background-color: #f0f8ff;border: 1px dotted black;border-radius: 0.25em;box-sizing: border-box;margin-bottom: 0.5em;}#sk-container-id-1 div.sk-estimator:hover {background-color: #d4ebff;}#sk-container-id-1 div.sk-parallel-item::after {content: \"\";width: 100%;border-bottom: 1px solid gray;flex-grow: 1;}#sk-container-id-1 div.sk-label:hover label.sk-toggleable__label {background-color: #d4ebff;}#sk-container-id-1 div.sk-serial::before {content: \"\";position: absolute;border-left: 1px solid gray;box-sizing: border-box;top: 0;bottom: 0;left: 50%;z-index: 0;}#sk-container-id-1 div.sk-serial {display: flex;flex-direction: column;align-items: center;background-color: white;padding-right: 0.2em;padding-left: 0.2em;position: relative;}#sk-container-id-1 div.sk-item {position: relative;z-index: 1;}#sk-container-id-1 div.sk-parallel {display: flex;align-items: stretch;justify-content: center;background-color: white;position: relative;}#sk-container-id-1 div.sk-item::before, #sk-container-id-1 div.sk-parallel-item::before {content: \"\";position: absolute;border-left: 1px solid gray;box-sizing: border-box;top: 0;bottom: 0;left: 50%;z-index: -1;}#sk-container-id-1 div.sk-parallel-item {display: flex;flex-direction: column;z-index: 1;position: relative;background-color: white;}#sk-container-id-1 div.sk-parallel-item:first-child::after {align-self: flex-end;width: 50%;}#sk-container-id-1 div.sk-parallel-item:last-child::after {align-self: flex-start;width: 50%;}#sk-container-id-1 div.sk-parallel-item:only-child::after {width: 0;}#sk-container-id-1 div.sk-dashed-wrapped {border: 1px dashed gray;margin: 0 0.4em 0.5em 0.4em;box-sizing: border-box;padding-bottom: 0.4em;background-color: white;}#sk-container-id-1 div.sk-label label {font-family: monospace;font-weight: bold;display: inline-block;line-height: 1.2em;}#sk-container-id-1 div.sk-label-container {text-align: center;}#sk-container-id-1 div.sk-container {/* jupyter's `normalize.less` sets `[hidden] { display: none; }` but bootstrap.min.css set `[hidden] { display: none !important; }` so we also need the `!important` here to be able to override the default hidden behavior on the sphinx rendered scikit-learn.org. See: https://github.com/scikit-learn/scikit-learn/issues/21755 */display: inline-block !important;position: relative;}#sk-container-id-1 div.sk-text-repr-fallback {display: none;}</style><div id=\"sk-container-id-1\" class=\"sk-top-container\"><div class=\"sk-text-repr-fallback\"><pre>RandomForestClassifier(random_state=42)</pre><b>In a Jupyter environment, please rerun this cell to show the HTML representation or trust the notebook. <br />On GitHub, the HTML representation is unable to render, please try loading this page with nbviewer.org.</b></div><div class=\"sk-container\" hidden><div class=\"sk-item\"><div class=\"sk-estimator sk-toggleable\"><input class=\"sk-toggleable__control sk-hidden--visually\" id=\"sk-estimator-id-1\" type=\"checkbox\" checked><label for=\"sk-estimator-id-1\" class=\"sk-toggleable__label sk-toggleable__label-arrow\">RandomForestClassifier</label><div class=\"sk-toggleable__content\"><pre>RandomForestClassifier(random_state=42)</pre></div></div></div></div></div>"
      ],
      "text/plain": [
       "RandomForestClassifier(random_state=42)"
      ]
     },
     "execution_count": 14,
     "metadata": {},
     "output_type": "execute_result"
    }
   ],
   "source": [
    "from sklearn.ensemble import RandomForestClassifier\n",
    "\n",
    "# Initialize and train the model\n",
    "model = RandomForestClassifier(random_state=42)\n",
    "model.fit(X_train, y_train)"
   ]
  },
  {
   "cell_type": "markdown",
   "id": "a62975e0-de75-4118-acca-6b56c5c65454",
   "metadata": {},
   "source": [
    "Step 11: Evaluate the Model\n",
    "\n",
    "Evaluate the model using the test set."
   ]
  },
  {
   "cell_type": "code",
   "execution_count": 17,
   "id": "b447d6ac-1b3d-409d-bb8d-25ce15f8f34a",
   "metadata": {},
   "outputs": [
    {
     "name": "stdout",
     "output_type": "stream",
     "text": [
      "\n",
      "Classification Report:\n",
      "              precision    recall  f1-score   support\n",
      "\n",
      "        Bike       1.00      1.00      1.00         2\n",
      "        Boat       1.00      1.00      1.00         1\n",
      "         Bus       1.00      1.00      1.00         1\n",
      "         Car       1.00      0.67      0.80         3\n",
      "      Hiking       1.00      1.00      1.00         1\n",
      "       Train       0.00      0.00      0.00         0\n",
      "\n",
      "    accuracy                           0.88         8\n",
      "   macro avg       0.83      0.78      0.80         8\n",
      "weighted avg       1.00      0.88      0.93         8\n",
      "\n",
      "\n",
      "Accuracy Score:\n",
      "0.875\n",
      "\n",
      "Actual vs Predicted Travel Modes:\n",
      "  Actual Travel Mode Predicted Travel Mode\n",
      "0                Bus                   Bus\n",
      "1                Car                   Car\n",
      "2               Bike                  Bike\n",
      "3                Car                 Train\n",
      "4               Boat                  Boat\n"
     ]
    },
    {
     "name": "stderr",
     "output_type": "stream",
     "text": [
      "C:\\Users\\anasn\\anaconda3\\Lib\\site-packages\\sklearn\\metrics\\_classification.py:1344: UndefinedMetricWarning: Recall and F-score are ill-defined and being set to 0.0 in labels with no true samples. Use `zero_division` parameter to control this behavior.\n",
      "  _warn_prf(average, modifier, msg_start, len(result))\n",
      "C:\\Users\\anasn\\anaconda3\\Lib\\site-packages\\sklearn\\metrics\\_classification.py:1344: UndefinedMetricWarning: Recall and F-score are ill-defined and being set to 0.0 in labels with no true samples. Use `zero_division` parameter to control this behavior.\n",
      "  _warn_prf(average, modifier, msg_start, len(result))\n",
      "C:\\Users\\anasn\\anaconda3\\Lib\\site-packages\\sklearn\\metrics\\_classification.py:1344: UndefinedMetricWarning: Recall and F-score are ill-defined and being set to 0.0 in labels with no true samples. Use `zero_division` parameter to control this behavior.\n",
      "  _warn_prf(average, modifier, msg_start, len(result))\n"
     ]
    }
   ],
   "source": [
    "from sklearn.metrics import classification_report, accuracy_score\n",
    "\n",
    "# Predict the travel modes for the test set\n",
    "y_pred = model.predict(X_test)\n",
    "\n",
    "# Decode the predicted and actual travel modes to their original labels\n",
    "y_pred_labels = label_encoder.inverse_transform(y_pred)\n",
    "y_test_labels = label_encoder.inverse_transform(y_test)\n",
    "\n",
    "# Print the classification report and accuracy score\n",
    "print(\"\\nClassification Report:\")\n",
    "print(classification_report(y_test_labels, y_pred_labels))\n",
    "print(\"\\nAccuracy Score:\")\n",
    "print(accuracy_score(y_test_labels, y_pred_labels))\n",
    "\n",
    "# Create a DataFrame to display actual vs predicted travel modes\n",
    "results_df = pd.DataFrame({\n",
    "    'Actual Travel Mode': y_test_labels,\n",
    "    'Predicted Travel Mode': y_pred_labels\n",
    "})\n",
    "\n",
    "# Display the first few rows of the results\n",
    "print(\"\\nActual vs Predicted Travel Modes:\")\n",
    "print(results_df.head())\n"
   ]
  },
  {
   "cell_type": "markdown",
   "id": "3585b90b-e432-4d12-b48c-5fb6a22c8b9d",
   "metadata": {},
   "source": [
    "Step 12: Save the Model and Encoders\n",
    "\n",
    "Save the trained model and encoders for later use."
   ]
  },
  {
   "cell_type": "code",
   "execution_count": 3,
   "id": "23a0900c-08ed-42ad-b152-7457026bc564",
   "metadata": {},
   "outputs": [
    {
     "ename": "NameError",
     "evalue": "name 'model' is not defined",
     "output_type": "error",
     "traceback": [
      "\u001b[1;31m---------------------------------------------------------------------------\u001b[0m",
      "\u001b[1;31mNameError\u001b[0m                                 Traceback (most recent call last)",
      "Cell \u001b[1;32mIn[3], line 4\u001b[0m\n\u001b[0;32m      1\u001b[0m \u001b[38;5;28;01mimport\u001b[39;00m \u001b[38;5;21;01mjoblib\u001b[39;00m\n\u001b[0;32m      3\u001b[0m \u001b[38;5;66;03m# Save the model and encoders\u001b[39;00m\n\u001b[1;32m----> 4\u001b[0m joblib\u001b[38;5;241m.\u001b[39mdump(model, \u001b[38;5;124m'\u001b[39m\u001b[38;5;124mtravel_mode_model.pkl\u001b[39m\u001b[38;5;124m'\u001b[39m)\n\u001b[0;32m      5\u001b[0m joblib\u001b[38;5;241m.\u001b[39mdump(encoder, \u001b[38;5;124m'\u001b[39m\u001b[38;5;124monehot_encoder.pkl\u001b[39m\u001b[38;5;124m'\u001b[39m)\n\u001b[0;32m      6\u001b[0m joblib\u001b[38;5;241m.\u001b[39mdump(label_encoder, \u001b[38;5;124m'\u001b[39m\u001b[38;5;124mlabel_encoder.pkl\u001b[39m\u001b[38;5;124m'\u001b[39m)\n",
      "\u001b[1;31mNameError\u001b[0m: name 'model' is not defined"
     ]
    }
   ],
   "source": [
    "import joblib\n",
    "\n",
    "# Save the model and encoders\n",
    "joblib.dump(model, 'travel_mode_model.pkl')\n",
    "joblib.dump(encoder, 'onehot_encoder.pkl')\n",
    "joblib.dump(label_encoder, 'label_encoder.pkl')\n",
    "joblib.dump(scaler, 'scaler.pkl')"
   ]
  },
  {
   "cell_type": "code",
   "execution_count": null,
   "id": "1515f353-b15b-44f9-be49-ba050b428d7f",
   "metadata": {},
   "outputs": [],
   "source": []
  }
 ],
 "metadata": {
  "kernelspec": {
   "display_name": "Python 3 (ipykernel)",
   "language": "python",
   "name": "python3"
  },
  "language_info": {
   "codemirror_mode": {
    "name": "ipython",
    "version": 3
   },
   "file_extension": ".py",
   "mimetype": "text/x-python",
   "name": "python",
   "nbconvert_exporter": "python",
   "pygments_lexer": "ipython3",
   "version": "3.11.7"
  }
 },
 "nbformat": 4,
 "nbformat_minor": 5
}
